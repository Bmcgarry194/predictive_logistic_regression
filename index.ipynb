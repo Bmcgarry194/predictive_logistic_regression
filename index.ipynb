{
 "cells": [
  {
   "cell_type": "markdown",
   "metadata": {},
   "source": [
    "# Logistic Regression for Prediction"
   ]
  },
  {
   "cell_type": "markdown",
   "metadata": {},
   "source": [
    "### Learning Goals\n",
    "You will be able to:\n",
    "\n",
    "1. Identify problems that can be solved using logistic regression\n",
    "2. Define the output space of a logistic regression\n",
    "3. Use sklearn to build and evaluate a logistic regression model"
   ]
  },
  {
   "cell_type": "markdown",
   "metadata": {},
   "source": [
    "### When would we use logistic regression?\n",
    "\n",
    "Logistic regression is useful for classification problems. This means that from our data we want to predict some sort of category.\n",
    "\n",
    "For example, if we wanted to predict:\n",
    "    - Default or not Default on a loan\n",
    "    - Rain or No Rain tomorrow\n",
    "    \n",
    "**Pair up and come up with 2-3 specific examples of problems that we could try solve using logistic regression.**"
   ]
  },
  {
   "cell_type": "markdown",
   "metadata": {},
   "source": [
    "### Quick Linear Regression Review\n",
    "\n",
    "In previous lectures we learned about linear regression where the model followed the form of: $$\\hat{y} = \\beta_0 + \\beta_1 x_1 + ... + \\beta_n x_n$$ \n",
    "\n",
    "where:\n",
    "* $\\hat{y}$ is our prediction\n",
    "\n",
    "* x are the values of the features\n",
    "\n",
    "* $\\beta$ are the coefficients.\n",
    "\n",
    "The outputs from the a linear regression model can take on any real value, but in the case of a binary classification the only outputs are either 0 or 1.\n",
    "\n",
    "How might we transform the output of our model in order to constrain the values to a reasonable range?"
   ]
  },
  {
   "cell_type": "markdown",
   "metadata": {},
   "source": [
    "### The logistic function"
   ]
  },
  {
   "cell_type": "code",
   "execution_count": 64,
   "metadata": {},
   "outputs": [
    {
     "data": {
      "image/png": "[encoded data removed]",
      "text/plain": [
       "<Figure size 432x288 with 1 Axes>"
      ]
     },
     "metadata": {
      "needs_background": "light"
     },
     "output_type": "display_data"
    }
   ],
   "source": [
    "import scipy.stats as scs\n",
    "import numpy as np\n",
    "\n",
    "fig, ax = plt.subplots(figsize=(6, 4))\n",
    "\n",
    "x = np.linspace(-10, 10)\n",
    "ax.plot(x, scs.logistic.cdf(x))\n",
    "ax.set_title('Logistic Function');"
   ]
  },
  {
   "cell_type": "markdown",
   "metadata": {},
   "source": [
    "The logistic function:\n",
    "\n",
    "$$f(x) = \\frac{1}{1 + e^{-x}}$$"
   ]
  },
  {
   "cell_type": "markdown",
   "metadata": {},
   "source": [
    "We can use the logistic function to squash all of our values between 0 and 1. Looking at the graph we see that very large values of x are pushed closer and closer to 1 while very negative values approach 0. This type of behavior has a natural interpretation as the probability of any particular observation being in the positive class. \n",
    "\n",
    "To make the connection to linear regression a bit more clear we can substitute in our linear model into the logistic function like so:\n",
    "\n",
    "$$predicted probability = \\frac{1}{1 + e^{-\\beta_0 + \\beta_1 x_1 + ... + \\beta_n x_n}}$$\n",
    "\n",
    "**In summary, logistic regression maps the \"real line\" output from linear regression to the probability space of [0,1]**"
   ]
  },
  {
   "cell_type": "markdown",
   "metadata": {},
   "source": [
    "## Optimization\n",
    "\n",
    "#### Logistic Regression Cost Function: Log Loss\n",
    "\n",
    "$$Log Loss = -\\frac{1}{m}\\sum_{i=1}^m [y^{(i)}log(\\hat{p}^{(i)}) + (1 - y^{(i)})log(1 - \\hat{p}^{(i)})]  $$\n",
    "\n",
    "This equation can look a bit intimidating but lets take a minute to break this down and understand what its trying to do.\n",
    "\n",
    "Lets think about an observation that is in the positive class, 1 and we predict a high probability.\n",
    "\n",
    "What happens when we predict a low probability?\n",
    "\n",
    "Now think about the opposite cases where an observation is in the negative class, 0 and we predict a high or low probability.\n",
    "\n",
    "#### Gradient Descent\n",
    "\n",
    "There is no known closed form solution to find the values of $\\beta$ which minimize log loss so instead we can use gradient descent to find optimal values for $\\beta$"
   ]
  },
  {
   "cell_type": "markdown",
   "metadata": {},
   "source": [
    "## Toy Example"
   ]
  },
  {
   "cell_type": "code",
   "execution_count": 148,
   "metadata": {},
   "outputs": [],
   "source": [
    "# import necessary libraries\n",
    "import pandas as pd\n",
    "import matplotlib.pyplot as plt\n",
    "from sklearn.linear_model import LogisticRegression\n",
    "from sklearn.model_selection import train_test_split\n",
    "from sklearn.preprocessing import OneHotEncoder, StandardScaler\n",
    "\n",
    "from sklearn.datasets import make_classification\n",
    "\n",
    "from sklearn.metrics import plot_confusion_matrix, plot_roc_curve"
   ]
  },
  {
   "cell_type": "code",
   "execution_count": 137,
   "metadata": {},
   "outputs": [],
   "source": [
    "X_fake, y_fake = make_classification(n_samples=50,\n",
    "                                     n_features=1,\n",
    "                                     n_informative=1,\n",
    "                                     n_redundant=0,\n",
    "                                     n_clusters_per_class=1,\n",
    "                                     random_state=0)"
   ]
  },
  {
   "cell_type": "code",
   "execution_count": 138,
   "metadata": {},
   "outputs": [],
   "source": [
    "lr_fake = LogisticRegression(penalty='none')\n",
    "lr.fit(X_fake, y_fake)\n",
    "\n",
    "preds_fake = lr.predict_proba(X_fake)[:, 1] #what does predict proba return?"
   ]
  },
  {
   "cell_type": "code",
   "execution_count": 139,
   "metadata": {},
   "outputs": [
    {
     "data": {
      "image/png": "[encoded data removed]",
      "text/plain": [
       "<Figure size 864x504 with 1 Axes>"
      ]
     },
     "metadata": {
      "needs_background": "light"
     },
     "output_type": "display_data"
    }
   ],
   "source": [
    "fig, ax = plt.subplots(figsize=(12, 7))\n",
    "x = np.linspace(-2, 2, num=1000)\n",
    "\n",
    "ax.plot(x, lr.predict_proba(x.reshape(-1, 1))[:, 1])\n",
    "\n",
    "ax.scatter(X_fake, y_fake, marker='x', color='black');"
   ]
  },
  {
   "cell_type": "markdown",
   "metadata": {},
   "source": [
    "## A Full Logistic Regression Workflow"
   ]
  },
  {
   "cell_type": "code",
   "execution_count": 7,
   "metadata": {},
   "outputs": [],
   "source": [
    "df = pd.read_csv('data/bank.csv', sep=';')"
   ]
  },
  {
   "cell_type": "markdown",
   "metadata": {},
   "source": [
    "Lets create a simple model using just a few of the available features."
   ]
  },
  {
   "cell_type": "code",
   "execution_count": 10,
   "metadata": {},
   "outputs": [],
   "source": [
    "features = ['age', 'job', 'education']\n",
    "\n",
    "X = df.loc[:, features]\n",
    "y = df.loc[:, 'y']\n",
    "\n",
    "X_train, X_test, y_train, y_test = train_test_split(X, y)"
   ]
  },
  {
   "cell_type": "markdown",
   "metadata": {},
   "source": [
    "#### What kind of preprocessing do we need to do before we pass in our data to the logisitic regression model?"
   ]
  },
  {
   "cell_type": "code",
   "execution_count": 17,
   "metadata": {},
   "outputs": [
    {
     "data": {
      "text/html": [
       "<div>\n",
       "<style scoped>\n",
       "    .dataframe tbody tr th:only-of-type {\n",
       "        vertical-align: middle;\n",
       "    }\n",
       "\n",
       "    .dataframe tbody tr th {\n",
       "        vertical-align: top;\n",
       "    }\n",
       "\n",
       "    .dataframe thead th {\n",
       "        text-align: right;\n",
       "    }\n",
       "</style>\n",
       "<table border=\"1\" class=\"dataframe\">\n",
       "  <thead>\n",
       "    <tr style=\"text-align: right;\">\n",
       "      <th></th>\n",
       "      <th>age</th>\n",
       "      <th>job</th>\n",
       "      <th>education</th>\n",
       "    </tr>\n",
       "  </thead>\n",
       "  <tbody>\n",
       "    <tr>\n",
       "      <th>292</th>\n",
       "      <td>53</td>\n",
       "      <td>services</td>\n",
       "      <td>secondary</td>\n",
       "    </tr>\n",
       "    <tr>\n",
       "      <th>1509</th>\n",
       "      <td>42</td>\n",
       "      <td>admin.</td>\n",
       "      <td>secondary</td>\n",
       "    </tr>\n",
       "    <tr>\n",
       "      <th>1895</th>\n",
       "      <td>29</td>\n",
       "      <td>services</td>\n",
       "      <td>secondary</td>\n",
       "    </tr>\n",
       "    <tr>\n",
       "      <th>1504</th>\n",
       "      <td>47</td>\n",
       "      <td>admin.</td>\n",
       "      <td>secondary</td>\n",
       "    </tr>\n",
       "    <tr>\n",
       "      <th>1946</th>\n",
       "      <td>42</td>\n",
       "      <td>services</td>\n",
       "      <td>secondary</td>\n",
       "    </tr>\n",
       "  </tbody>\n",
       "</table>\n",
       "</div>"
      ],
      "text/plain": [
       "      age       job  education\n",
       "292    53  services  secondary\n",
       "1509   42    admin.  secondary\n",
       "1895   29  services  secondary\n",
       "1504   47    admin.  secondary\n",
       "1946   42  services  secondary"
      ]
     },
     "execution_count": 17,
     "metadata": {},
     "output_type": "execute_result"
    }
   ],
   "source": [
    "X_train.head()"
   ]
  },
  {
   "cell_type": "markdown",
   "metadata": {},
   "source": [
    "### Preprocessing categorical variables"
   ]
  },
  {
   "cell_type": "code",
   "execution_count": 74,
   "metadata": {},
   "outputs": [],
   "source": [
    "#specify categorical features\n",
    "categoricals = ['job', 'education']\n",
    "\n",
    "ohe = OneHotEncoder(sparse=False)\n",
    "\n",
    "cat_matrix_train = ohe.fit_transform(X_train.loc[:, categoricals])\n",
    "\n",
    "X_train_ohe = pd.DataFrame(cat_matrix_train,\n",
    "                           columns=ohe.get_feature_names(categoricals), #create meaningful column names\n",
    "                           index=X_train.index) #keep the same index values\n",
    "\n",
    "#combine continuous and categorical data\n",
    "\n",
    "X_train_preprocessed = pd.concat([X_train.loc[:, 'age'], X_train_ohe], axis=1)\n",
    "\n",
    "#Scale data\n",
    "ss = StandardScaler()\n",
    "X_train_preprocessed = ss.fit_transform(X_train_preprocessed)\n",
    "\n",
    "# X_train_preprocessed"
   ]
  },
  {
   "cell_type": "code",
   "execution_count": 78,
   "metadata": {},
   "outputs": [],
   "source": [
    "#transform testing set\n",
    "cat_matrix_test = ohe.transform(X_test.loc[:, categoricals]) #remember to only transform on the test set!\n",
    "\n",
    "X_test_ohe = pd.DataFrame(cat_matrix_test,\n",
    "                           columns=ohe.get_feature_names(categoricals), #create meaningful column names\n",
    "                           index=X_test.index) #keep the same index values\n",
    "\n",
    "X_test_preprocessed = pd.concat([X_test.loc[:, 'age'], X_test_ohe], axis=1)\n",
    "X_test_preprocessed = ss.transform(X_test_preprocessed)\n"
   ]
  },
  {
   "cell_type": "markdown",
   "metadata": {},
   "source": [
    "### Create Logistic Regression Model\n",
    "\n",
    "There is one main gotcha when using sklearn's logistic regression implementation. There is always some amount of regularization applied by default so if you want an unbiased estimate you need to explicitly define the penalty to be none.\n",
    "\n",
    "This might lead to problems if your groups are perfectly seperable but in most cases it shouldn't be a problem. "
   ]
  },
  {
   "cell_type": "code",
   "execution_count": 140,
   "metadata": {},
   "outputs": [
    {
     "data": {
      "text/plain": [
       "LogisticRegression(C=1.0, class_weight=None, dual=False, fit_intercept=True,\n",
       "                   intercept_scaling=1, l1_ratio=None, max_iter=100,\n",
       "                   multi_class='auto', n_jobs=None, penalty='none',\n",
       "                   random_state=None, solver='lbfgs', tol=0.0001, verbose=0,\n",
       "                   warm_start=False)"
      ]
     },
     "execution_count": 140,
     "metadata": {},
     "output_type": "execute_result"
    }
   ],
   "source": [
    "lr = LogisticRegression(penalty='none')\n",
    "\n",
    "lr.fit(X_train_preprocessed, y_train)"
   ]
  },
  {
   "cell_type": "markdown",
   "metadata": {},
   "source": [
    "## Model Evaluation\n",
    "\n",
    "Now that we have fit our model we need to evaluate how well it has done.\n",
    "\n",
    "So far we have only predicted probabilites but now we have to think about how we will go from strict probabilities to predicting class membership.\n",
    "\n",
    "A naive solution to predicting class membership would be to simply predict every observation that has over a 50% probability of being in the positive class, as being in the positive class. For all other observations we will predict membership in the negative class.\n",
    "\n",
    "This naive solution is the default behavior for sklearn if we use the predict method. Lets stick with this decision rule for now and then complicate are thinking after we look at some tools to understand classification models."
   ]
  },
  {
   "cell_type": "markdown",
   "metadata": {},
   "source": [
    "### Confusion Matrix\n",
    "\n",
    "False Positve\n",
    "\n",
    "False Negative\n",
    "\n",
    "Accuracy\n",
    "\n",
    "Precision\n",
    "\n",
    "Recall"
   ]
  },
  {
   "cell_type": "code",
   "execution_count": 152,
   "metadata": {},
   "outputs": [
    {
     "data": {
      "image/png": "[encoded data removed]",
      "text/plain": [
       "<Figure size 504x504 with 2 Axes>"
      ]
     },
     "metadata": {
      "needs_background": "light"
     },
     "output_type": "display_data"
    }
   ],
   "source": [
    "fig, ax = plt.subplots(figsize=(7, 7))\n",
    "plot_confusion_matrix(lr, X_test_preprocessed, y_test, ax=ax);"
   ]
  },
  {
   "cell_type": "markdown",
   "metadata": {},
   "source": [
    "### ROC Curve"
   ]
  },
  {
   "cell_type": "code",
   "execution_count": 151,
   "metadata": {},
   "outputs": [
    {
     "data": {
      "image/png": "[encoded data removed]",
      "text/plain": [
       "<Figure size 504x504 with 1 Axes>"
      ]
     },
     "metadata": {
      "needs_background": "light"
     },
     "output_type": "display_data"
    }
   ],
   "source": [
    "fig, ax = plt.subplots(figsize=(7, 7))\n",
    "\n",
    "plot_roc_curve(lr, X_test_preprocessed, y_test, ax=ax);"
   ]
  },
  {
   "cell_type": "code",
   "execution_count": null,
   "metadata": {},
   "outputs": [],
   "source": []
  }
 ],
 "metadata": {
  "kernelspec": {
   "display_name": "pred_lr",
   "language": "python",
   "name": "pred_lr"
  },
  "language_info": {
   "codemirror_mode": {
    "name": "ipython",
    "version": 3
   },
   "file_extension": ".py",
   "mimetype": "text/x-python",
   "name": "python",
   "nbconvert_exporter": "python",
   "pygments_lexer": "ipython3",
   "version": "3.8.2"
  }
 },
 "nbformat": 4,
 "nbformat_minor": 4
}
